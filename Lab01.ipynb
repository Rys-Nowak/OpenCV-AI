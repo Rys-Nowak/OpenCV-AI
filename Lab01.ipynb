{
 "cells": [
  {
   "cell_type": "code",
   "execution_count": 37,
   "metadata": {},
   "outputs": [],
   "source": [
    "import cv2\n",
    "import nibabel as nib\n",
    "import numpy as np\n",
    "from pycimg import CImg\n",
    "import matplotlib.pyplot as plt\n"
   ]
  },
  {
   "cell_type": "code",
   "execution_count": 38,
   "metadata": {},
   "outputs": [],
   "source": [
    "fname = './Images/IMG_0001.nii.gz'\n",
    "lungs = nib.load(fname).get_fdata()\n",
    "fname = './BodyMasks/BODYMASK_IMG_0001.nii.gz'\n",
    "body_mask = nib.load(fname).get_fdata()\n",
    "max_val = np.max(lungs)\n",
    "\n",
    "lungs_bin_inv = np.zeros(lungs.T.shape)\n",
    "for i, dim in enumerate(lungs.T):\n",
    "    _, lungs_bin_inv[i] = cv2.threshold(dim, -320, max_val, cv2.THRESH_BINARY_INV)\n",
    "\n",
    "lungs_bin_inv = lungs_bin_inv.T\n",
    "# print(lungs_bin_inv.shape)\n",
    "# CImg(lungs_bin_inv).display();\n",
    "lungs_air_within_body = np.logical_and(lungs_bin_inv, body_mask).astype(np.uint8)\n",
    "CImg(lungs_air_within_body).display();\n"
   ]
  },
  {
   "cell_type": "code",
   "execution_count": 39,
   "metadata": {},
   "outputs": [],
   "source": [
    "lungs_morphed = np.zeros(lungs_air_within_body.T.shape)\n",
    "for i, dim in enumerate(lungs_air_within_body.T):\n",
    "    lungs_morphed[i] = cv2.medianBlur(dim, 7)\n",
    "lungs_morphed = lungs_morphed.T\n",
    "\n",
    "kernel = cv2.getStructuringElement(cv2.MORPH_ELLIPSE, (5, 5))\n",
    "lungs_morphed = cv2.dilate(lungs_morphed, kernel, None, iterations=2)\n",
    "lungs_morphed = cv2.erode(lungs_morphed, kernel, None, iterations=2)\n",
    "lungs_morphed = cv2.erode(lungs_morphed, kernel, None, iterations=2)\n",
    "lungs_morphed = cv2.dilate(lungs_morphed, kernel, None, iterations=2)\n",
    "CImg(lungs_morphed).display();\n",
    "\n",
    "\n"
   ]
  },
  {
   "cell_type": "code",
   "execution_count": 40,
   "metadata": {},
   "outputs": [
    {
     "name": "stdout",
     "output_type": "stream",
     "text": [
      "1\n"
     ]
    }
   ],
   "source": [
    "lungs_indexed = np.zeros(lungs_morphed.T.shape)\n",
    "for i, dim in enumerate(lungs_morphed.T):\n",
    "    num_labels, labels, stats, centroids = cv2.connectedComponentsWithStats(dim.astype(np.uint8))\n",
    "    for j in range(num_labels):\n",
    "        if stats[j][cv2.CC_STAT_AREA] < 500:\n",
    "            labels[labels == j] = 0\n",
    "\n",
    "    lungs_indexed[i] = labels\n",
    "\n",
    "print(num_labels)\n",
    "for i, dim in enumerate(lungs_indexed):\n",
    "    _, lungs_indexed[i] = cv2.threshold(dim, 0, 255, cv2.THRESH_BINARY)\n",
    "\n",
    "lungs_indexed = lungs_indexed.T.astype(np.uint8)\n",
    "CImg(lungs_indexed).display();\n",
    "\n"
   ]
  },
  {
   "cell_type": "code",
   "execution_count": 62,
   "metadata": {},
   "outputs": [],
   "source": [
    "from skimage.segmentation import watershed\n",
    "from skimage.feature import peak_local_max\n",
    "from scipy import ndimage as ndi\n",
    "from skimage import filters\n",
    "\n",
    "lungs_done = np.zeros(lungs_indexed.T.shape)\n",
    "for i, (segmented, img) in enumerate(zip(lungs_indexed.T, np.logical_not(lungs_bin_inv.T))):\n",
    "    # distance = ndi.distance_transform_edt(img)\n",
    "    # coords = peak_local_max(distance, footprint=np.ones((256, 512)), labels=dim)\n",
    "    # mask = np.zeros(distance.shape, dtype=bool)\n",
    "    # mask[tuple(coords.T)] = True\n",
    "    # markers, _ = ndi.label(mask)\n",
    "    grad = filters.sobel(img)\n",
    "    marker = cv2.erode(segmented, np.ones((9, 9)))\n",
    "    _, labels = cv2.connectedComponents(marker)\n",
    "    labels += 1\n",
    "    lungs_done[i] = watershed(img, labels, mask=segmented)\n",
    "\n",
    "\n",
    "lungs_done = lungs_done.T\n",
    "CImg(lungs_done).display();\n"
   ]
  },
  {
   "cell_type": "code",
   "execution_count": 64,
   "metadata": {},
   "outputs": [],
   "source": [
    "lungs_done = watershed(lungs, lungs_indexed, mask=lungs_indexed)\n",
    "CImg(lungs_done).display();\n"
   ]
  },
  {
   "cell_type": "code",
   "execution_count": 42,
   "metadata": {},
   "outputs": [],
   "source": [
    "from skimage import filters\n",
    "\n",
    "markers = np.zeros(lungs_indexed.T.shape)\n",
    "for i, dim in enumerate(lungs_indexed.T):\n",
    "    distance = ndi.distance_transform_edt(dim)\n",
    "    coords = peak_local_max(distance, footprint=np.ones((3, 3)), labels=dim)\n",
    "    mask = np.zeros(distance.shape, dtype=bool)\n",
    "    mask[tuple(coords.T)] = True\n",
    "    markers[i], _ = ndi.label(mask)\n",
    "\n",
    "markers = markers.T\n",
    "CImg(markers).display();"
   ]
  }
 ],
 "metadata": {
  "kernelspec": {
   "display_name": "neural",
   "language": "python",
   "name": "python3"
  },
  "language_info": {
   "codemirror_mode": {
    "name": "ipython",
    "version": 3
   },
   "file_extension": ".py",
   "mimetype": "text/x-python",
   "name": "python",
   "nbconvert_exporter": "python",
   "pygments_lexer": "ipython3",
   "version": "3.10.14"
  }
 },
 "nbformat": 4,
 "nbformat_minor": 2
}
