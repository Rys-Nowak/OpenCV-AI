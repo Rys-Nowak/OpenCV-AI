{
 "cells": [
  {
   "cell_type": "code",
   "execution_count": 1,
   "id": "fa0823d5-19e4-4f17-9bf8-8950f9e194bc",
   "metadata": {},
   "outputs": [],
   "source": [
    "import numpy as np\n",
    "import os\n",
    "import glob\n",
    "import math\n",
    "import nibabel as nib\n",
    "import cv2\n",
    "\n",
    "from pycimg import CImg\n",
    "from skimage import measure\n",
    "from skimage import morphology\n",
    "from scipy import ndimage\n",
    "from scipy.spatial import ConvexHull\n"
   ]
  },
  {
   "cell_type": "code",
   "execution_count": 8,
   "id": "eca62382-51f9-4231-bb1a-eb7e1825910a",
   "metadata": {},
   "outputs": [
    {
     "name": "stdout",
     "output_type": "stream",
     "text": [
      "(512, 512, 277)\n",
      "-3024.0\n",
      "3071.0\n"
     ]
    }
   ],
   "source": [
    "fname = './Images/IMG_0010.nii.gz'\n",
    "\n",
    "foo = nib.load(fname).get_fdata()\n",
    "\n",
    "print(foo.shape)\n",
    "print(np.min(foo))\n",
    "print(np.max(foo))\n",
    "# CImg(foo).display();\n"
   ]
  },
  {
   "cell_type": "code",
   "execution_count": 3,
   "id": "dd49bb18-8c2b-4492-a561-40c052e3cbfa",
   "metadata": {},
   "outputs": [
    {
     "name": "stdout",
     "output_type": "stream",
     "text": [
      "./Images/IMG_0001.nii.gz 1 92.9691390991211 74.48997803572934 34839793.0 43706.322276218474 23328.7380401739 23325.229234253642 661.1341095582554 171.68706993274324 34865152.0 405.2213457876902 34467973.68328954 792050.0172917995\n"
     ]
    }
   ],
   "source": [
    "labels,_ = ndimage.label(foo)\n",
    "\n",
    "if np.sum(labels) > 0:\n",
    "    props = measure.regionprops(labels)\n",
    "    ids,counts = np.unique(labels,return_counts=True)\n",
    "    \n",
    "    for i,c,regionProp in zip(ids[1:],counts[1:],props):   #bez tła\n",
    "\n",
    "        voxels = np.where(labels==i)\n",
    "        voxels = np.asarray(voxels)\n",
    "        voxels = np.swapaxes(voxels,0,1)\n",
    "        chull = ConvexHull(voxels,qhull_options = 'QJ')\n",
    "\n",
    "        dum = np.zeros(labels.shape,dtype=np.float32)\n",
    "        dum[labels==i] = 1\n",
    "        verts, faces, _, _ = measure.marching_cubes(dum, 0.0)\n",
    "        surf = measure.mesh_surface_area(verts, faces)\n",
    "\n",
    "        print(fname,i, \\\n",
    "                surf, \\\n",
    "                math.pow(3*c/4/math.pi,1/3)/math.pow(surf/4/math.pi,1/2), \\\n",
    "                regionProp.area, \\\n",
    "                regionProp.inertia_tensor_eigvals[0], \\\n",
    "                regionProp.inertia_tensor_eigvals[1], \\\n",
    "                regionProp.inertia_tensor_eigvals[2], \\\n",
    "                regionProp.major_axis_length, regionProp.minor_axis_length, \\\n",
    "                regionProp.bbox_area, \\\n",
    "                regionProp.equivalent_diameter, \\\n",
    "                chull.volume,chull.area)\n"
   ]
  },
  {
   "cell_type": "code",
   "execution_count": null,
   "id": "eb0cfb31-f15c-4c5d-a3ad-c24fbde97b54",
   "metadata": {},
   "outputs": [],
   "source": []
  }
 ],
 "metadata": {
  "kernelspec": {
   "display_name": "Python 3 (ipykernel)",
   "language": "python",
   "name": "python3"
  },
  "language_info": {
   "codemirror_mode": {
    "name": "ipython",
    "version": 3
   },
   "file_extension": ".py",
   "mimetype": "text/x-python",
   "name": "python",
   "nbconvert_exporter": "python",
   "pygments_lexer": "ipython3",
   "version": "3.10.14"
  }
 },
 "nbformat": 4,
 "nbformat_minor": 5
}
